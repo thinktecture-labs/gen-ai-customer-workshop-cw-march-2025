{
 "cells": [
  {
   "cell_type": "markdown",
   "metadata": {},
   "source": [
    "# Semantic Kernel .NET Hello World\n",
    "\n",
    "This is a .NET Interactive Jupyter notebook. You need the Jupyter notebook extension and Polyglot notebooks installed in VS code.\n",
    "\n"
   ]
  },
  {
   "cell_type": "code",
   "execution_count": 3,
   "metadata": {
    "dotnet_interactive": {
     "language": "csharp"
    },
    "polyglot_notebook": {
     "kernelName": "csharp"
    },
    "vscode": {
     "languageId": "polyglot-notebook"
    }
   },
   "outputs": [
    {
     "data": {
      "text/html": [
       "<div><div></div><div></div><div><strong>Installed Packages</strong><ul><li><span>dotenv.net, 3.0.0</span></li><li><span>Microsoft.SemanticKernel, 1.40.1</span></li></ul></div></div>"
      ]
     },
     "metadata": {},
     "output_type": "display_data"
    }
   ],
   "source": [
    "#r \"nuget: dotenv.net, 3.0.0\"\n",
    "#r \"nuget: Microsoft.SemanticKernel, 1.40.1\""
   ]
  },
  {
   "cell_type": "code",
   "execution_count": null,
   "metadata": {
    "dotnet_interactive": {
     "language": "csharp"
    },
    "polyglot_notebook": {
     "kernelName": "csharp"
    },
    "vscode": {
     "languageId": "polyglot-notebook"
    }
   },
   "outputs": [],
   "source": [
    "using System;\n",
    "using dotenv.net;\n",
    "\n",
    "DotEnv.Load();\n",
    "var envVars = DotEnv.Read();\n",
    "var openAiApiKey = envVars[(\"OPENAI_API_KEY\")];\n",
    "\n",
    "if (String.IsNullOrWhiteSpace(openAiApiKey))\n",
    "    throw new Exception(\"Please set your OpenAI API key to the OPENAI_API_KEY environment variable in .env\");"
   ]
  },
  {
   "cell_type": "markdown",
   "metadata": {},
   "source": [
    "## Create and use our first Kernel"
   ]
  },
  {
   "cell_type": "code",
   "execution_count": 5,
   "metadata": {
    "dotnet_interactive": {
     "language": "csharp"
    },
    "polyglot_notebook": {
     "kernelName": "csharp"
    },
    "vscode": {
     "languageId": "polyglot-notebook"
    }
   },
   "outputs": [],
   "source": [
    "using Microsoft.SemanticKernel;\n",
    "\n",
    "var kernel = Kernel.CreateBuilder()\n",
    "    .AddOpenAIChatCompletion(modelId: \"gpt-4o\", apiKey: openAiApiKey)\n",
    "    .Build();"
   ]
  },
  {
   "cell_type": "markdown",
   "metadata": {},
   "source": [
    "### Ask our Kernel"
   ]
  },
  {
   "cell_type": "code",
   "execution_count": 7,
   "metadata": {
    "dotnet_interactive": {
     "language": "csharp"
    },
    "polyglot_notebook": {
     "kernelName": "csharp"
    },
    "vscode": {
     "languageId": "polyglot-notebook"
    }
   },
   "outputs": [
    {
     "name": "stdout",
     "output_type": "stream",
     "text": [
      "Guten Tag, liebe Teilnehmerinnen und Teilnehmer des Workshops bei der Brockhaus AG! Es freut mich sehr, heute hier zu sein und mit Ihnen zusammenzuarbeiten. Ich hoffe, wir werden gemeinsam viel Neues entdecken und spannende Einblicke gewinnen. Wenn Sie Fragen haben oder Unterstützung benötigen, stehe ich Ihnen gerne zur Verfügung. Lassen Sie uns in einen erfolgreichen Workshop starten!\n"
     ]
    }
   ],
   "source": [
    "var prompt = \"Du bist ein KI 'Agent'im Kunden-Workshop bei der Brockhaus AG. Bitte grüße alle Teilnehmer vor Ort.\";\n",
    "var response = await kernel.InvokePromptAsync(prompt);\n",
    "\n",
    "Console.WriteLine(response);"
   ]
  }
 ],
 "metadata": {
  "kernelspec": {
   "display_name": ".NET (C#)",
   "language": "C#",
   "name": ".net-csharp"
  },
  "language_info": {
   "name": "python",
   "version": "3.11.7"
  },
  "polyglot_notebook": {
   "kernelInfo": {
    "defaultKernelName": "csharp",
    "items": [
     {
      "aliases": [],
      "name": "csharp"
     }
    ]
   }
  }
 },
 "nbformat": 4,
 "nbformat_minor": 2
}
