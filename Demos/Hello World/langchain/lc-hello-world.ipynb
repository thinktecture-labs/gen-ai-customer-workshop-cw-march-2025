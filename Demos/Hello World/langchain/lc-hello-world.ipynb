{
 "cells": [
  {
   "cell_type": "markdown",
   "metadata": {},
   "source": [
    "# Langchain Hello-World"
   ]
  },
  {
   "cell_type": "code",
   "execution_count": 11,
   "metadata": {},
   "outputs": [
    {
     "name": "stdout",
     "output_type": "stream",
     "text": [
      "Requirement already satisfied: langchain-openai in /Users/christianweyer/Sources/gen-ai-customer-workshop-november-2024/.conda/lib/python3.11/site-packages (0.3.8)\n",
      "Collecting python-dotenv\n",
      "  Using cached python_dotenv-1.0.1-py3-none-any.whl.metadata (23 kB)\n",
      "Requirement already satisfied: langchain-core<1.0.0,>=0.3.42 in /Users/christianweyer/Sources/gen-ai-customer-workshop-november-2024/.conda/lib/python3.11/site-packages (from langchain-openai) (0.3.45)\n",
      "Requirement already satisfied: openai<2.0.0,>=1.58.1 in /Users/christianweyer/Sources/gen-ai-customer-workshop-november-2024/.conda/lib/python3.11/site-packages (from langchain-openai) (1.66.3)\n",
      "Requirement already satisfied: tiktoken<1,>=0.7 in /Users/christianweyer/Sources/gen-ai-customer-workshop-november-2024/.conda/lib/python3.11/site-packages (from langchain-openai) (0.9.0)\n",
      "Requirement already satisfied: langsmith<0.4,>=0.1.125 in /Users/christianweyer/Sources/gen-ai-customer-workshop-november-2024/.conda/lib/python3.11/site-packages (from langchain-core<1.0.0,>=0.3.42->langchain-openai) (0.3.15)\n",
      "Requirement already satisfied: tenacity!=8.4.0,<10.0.0,>=8.1.0 in /Users/christianweyer/Sources/gen-ai-customer-workshop-november-2024/.conda/lib/python3.11/site-packages (from langchain-core<1.0.0,>=0.3.42->langchain-openai) (9.0.0)\n",
      "Requirement already satisfied: jsonpatch<2.0,>=1.33 in /Users/christianweyer/Sources/gen-ai-customer-workshop-november-2024/.conda/lib/python3.11/site-packages (from langchain-core<1.0.0,>=0.3.42->langchain-openai) (1.33)\n",
      "Requirement already satisfied: PyYAML>=5.3 in /Users/christianweyer/Sources/gen-ai-customer-workshop-november-2024/.conda/lib/python3.11/site-packages (from langchain-core<1.0.0,>=0.3.42->langchain-openai) (6.0.2)\n",
      "Requirement already satisfied: packaging<25,>=23.2 in /Users/christianweyer/Sources/gen-ai-customer-workshop-november-2024/.conda/lib/python3.11/site-packages (from langchain-core<1.0.0,>=0.3.42->langchain-openai) (24.2)\n",
      "Requirement already satisfied: typing-extensions>=4.7 in /Users/christianweyer/Sources/gen-ai-customer-workshop-november-2024/.conda/lib/python3.11/site-packages (from langchain-core<1.0.0,>=0.3.42->langchain-openai) (4.12.2)\n",
      "Requirement already satisfied: pydantic<3.0.0,>=2.5.2 in /Users/christianweyer/Sources/gen-ai-customer-workshop-november-2024/.conda/lib/python3.11/site-packages (from langchain-core<1.0.0,>=0.3.42->langchain-openai) (2.10.6)\n",
      "Requirement already satisfied: anyio<5,>=3.5.0 in /Users/christianweyer/Sources/gen-ai-customer-workshop-november-2024/.conda/lib/python3.11/site-packages (from openai<2.0.0,>=1.58.1->langchain-openai) (4.8.0)\n",
      "Requirement already satisfied: distro<2,>=1.7.0 in /Users/christianweyer/Sources/gen-ai-customer-workshop-november-2024/.conda/lib/python3.11/site-packages (from openai<2.0.0,>=1.58.1->langchain-openai) (1.9.0)\n",
      "Requirement already satisfied: httpx<1,>=0.23.0 in /Users/christianweyer/Sources/gen-ai-customer-workshop-november-2024/.conda/lib/python3.11/site-packages (from openai<2.0.0,>=1.58.1->langchain-openai) (0.28.1)\n",
      "Requirement already satisfied: jiter<1,>=0.4.0 in /Users/christianweyer/Sources/gen-ai-customer-workshop-november-2024/.conda/lib/python3.11/site-packages (from openai<2.0.0,>=1.58.1->langchain-openai) (0.9.0)\n",
      "Requirement already satisfied: sniffio in /Users/christianweyer/Sources/gen-ai-customer-workshop-november-2024/.conda/lib/python3.11/site-packages (from openai<2.0.0,>=1.58.1->langchain-openai) (1.3.1)\n",
      "Requirement already satisfied: tqdm>4 in /Users/christianweyer/Sources/gen-ai-customer-workshop-november-2024/.conda/lib/python3.11/site-packages (from openai<2.0.0,>=1.58.1->langchain-openai) (4.67.1)\n",
      "Requirement already satisfied: regex>=2022.1.18 in /Users/christianweyer/Sources/gen-ai-customer-workshop-november-2024/.conda/lib/python3.11/site-packages (from tiktoken<1,>=0.7->langchain-openai) (2024.11.6)\n",
      "Requirement already satisfied: requests>=2.26.0 in /Users/christianweyer/Sources/gen-ai-customer-workshop-november-2024/.conda/lib/python3.11/site-packages (from tiktoken<1,>=0.7->langchain-openai) (2.32.3)\n",
      "Requirement already satisfied: idna>=2.8 in /Users/christianweyer/Sources/gen-ai-customer-workshop-november-2024/.conda/lib/python3.11/site-packages (from anyio<5,>=3.5.0->openai<2.0.0,>=1.58.1->langchain-openai) (3.10)\n",
      "Requirement already satisfied: certifi in /Users/christianweyer/Sources/gen-ai-customer-workshop-november-2024/.conda/lib/python3.11/site-packages (from httpx<1,>=0.23.0->openai<2.0.0,>=1.58.1->langchain-openai) (2025.1.31)\n",
      "Requirement already satisfied: httpcore==1.* in /Users/christianweyer/Sources/gen-ai-customer-workshop-november-2024/.conda/lib/python3.11/site-packages (from httpx<1,>=0.23.0->openai<2.0.0,>=1.58.1->langchain-openai) (1.0.7)\n",
      "Requirement already satisfied: h11<0.15,>=0.13 in /Users/christianweyer/Sources/gen-ai-customer-workshop-november-2024/.conda/lib/python3.11/site-packages (from httpcore==1.*->httpx<1,>=0.23.0->openai<2.0.0,>=1.58.1->langchain-openai) (0.14.0)\n",
      "Requirement already satisfied: jsonpointer>=1.9 in /Users/christianweyer/Sources/gen-ai-customer-workshop-november-2024/.conda/lib/python3.11/site-packages (from jsonpatch<2.0,>=1.33->langchain-core<1.0.0,>=0.3.42->langchain-openai) (3.0.0)\n",
      "Requirement already satisfied: orjson<4.0.0,>=3.9.14 in /Users/christianweyer/Sources/gen-ai-customer-workshop-november-2024/.conda/lib/python3.11/site-packages (from langsmith<0.4,>=0.1.125->langchain-core<1.0.0,>=0.3.42->langchain-openai) (3.10.15)\n",
      "Requirement already satisfied: requests-toolbelt<2.0.0,>=1.0.0 in /Users/christianweyer/Sources/gen-ai-customer-workshop-november-2024/.conda/lib/python3.11/site-packages (from langsmith<0.4,>=0.1.125->langchain-core<1.0.0,>=0.3.42->langchain-openai) (1.0.0)\n",
      "Requirement already satisfied: zstandard<0.24.0,>=0.23.0 in /Users/christianweyer/Sources/gen-ai-customer-workshop-november-2024/.conda/lib/python3.11/site-packages (from langsmith<0.4,>=0.1.125->langchain-core<1.0.0,>=0.3.42->langchain-openai) (0.23.0)\n",
      "Requirement already satisfied: annotated-types>=0.6.0 in /Users/christianweyer/Sources/gen-ai-customer-workshop-november-2024/.conda/lib/python3.11/site-packages (from pydantic<3.0.0,>=2.5.2->langchain-core<1.0.0,>=0.3.42->langchain-openai) (0.7.0)\n",
      "Requirement already satisfied: pydantic-core==2.27.2 in /Users/christianweyer/Sources/gen-ai-customer-workshop-november-2024/.conda/lib/python3.11/site-packages (from pydantic<3.0.0,>=2.5.2->langchain-core<1.0.0,>=0.3.42->langchain-openai) (2.27.2)\n",
      "Requirement already satisfied: charset-normalizer<4,>=2 in /Users/christianweyer/Sources/gen-ai-customer-workshop-november-2024/.conda/lib/python3.11/site-packages (from requests>=2.26.0->tiktoken<1,>=0.7->langchain-openai) (3.4.1)\n",
      "Requirement already satisfied: urllib3<3,>=1.21.1 in /Users/christianweyer/Sources/gen-ai-customer-workshop-november-2024/.conda/lib/python3.11/site-packages (from requests>=2.26.0->tiktoken<1,>=0.7->langchain-openai) (2.3.0)\n",
      "Using cached python_dotenv-1.0.1-py3-none-any.whl (19 kB)\n",
      "Installing collected packages: python-dotenv\n",
      "Successfully installed python-dotenv-1.0.1\n",
      "Note: you may need to restart the kernel to use updated packages.\n"
     ]
    }
   ],
   "source": [
    "# Install required packages via pip\n",
    "%pip install langchain-openai python-dotenv"
   ]
  },
  {
   "cell_type": "markdown",
   "metadata": {},
   "source": [
    "## Prepare model connection"
   ]
  },
  {
   "cell_type": "code",
   "execution_count": 12,
   "metadata": {},
   "outputs": [],
   "source": [
    "%load_ext dotenv\n",
    "%dotenv\n",
    "\n",
    "from langchain_openai import ChatOpenAI\n",
    "\n",
    "llm = ChatOpenAI()"
   ]
  },
  {
   "cell_type": "markdown",
   "metadata": {},
   "source": [
    "## Invoke first completion"
   ]
  },
  {
   "cell_type": "code",
   "execution_count": 14,
   "metadata": {},
   "outputs": [
    {
     "data": {
      "text/plain": [
       "AIMessage(content='Natürlich! Herzliche Grüße an alle Teilnehmer des Workshops über generative künstliche Intelligenz von der Brockhaus AG. Viel Erfolg und spannende Erkenntnisse bei der Veranstaltung!', additional_kwargs={'refusal': None}, response_metadata={'token_usage': {'completion_tokens': 49, 'prompt_tokens': 38, 'total_tokens': 87, 'completion_tokens_details': {'accepted_prediction_tokens': 0, 'audio_tokens': 0, 'reasoning_tokens': 0, 'rejected_prediction_tokens': 0}, 'prompt_tokens_details': {'audio_tokens': 0, 'cached_tokens': 0}}, 'model_name': 'gpt-3.5-turbo-0125', 'system_fingerprint': None, 'finish_reason': 'stop', 'logprobs': None}, id='run-b3ece362-0c3a-4f8d-b4a4-c217fde0732d-0', usage_metadata={'input_tokens': 38, 'output_tokens': 49, 'total_tokens': 87, 'input_token_details': {'audio': 0, 'cache_read': 0}, 'output_token_details': {'audio': 0, 'reasoning': 0}})"
      ]
     },
     "execution_count": 14,
     "metadata": {},
     "output_type": "execute_result"
    }
   ],
   "source": [
    "llm.invoke(\"Ich bin bei der Brockhaus AG und halten einen Workshop über generative künstliche Intelligenz. Bitte Grüße unsere Teilnehmer vor Ort.\")"
   ]
  },
  {
   "cell_type": "markdown",
   "metadata": {},
   "source": [
    "# Our first chain"
   ]
  },
  {
   "cell_type": "code",
   "execution_count": 17,
   "metadata": {},
   "outputs": [
    {
     "data": {
      "text/plain": [
       "AIMessage(content='Ja, ich hätte tatsächlich eine Frage. Könnten Sie mir erklären, wie genau Language Modelle, speziell Large Language Models (LLMs), im Business-Umfeld eingesetzt werden können? Gibt es konkrete Beispiele für deren Anwendung?', additional_kwargs={'refusal': None}, response_metadata={'token_usage': {'completion_tokens': 61, 'prompt_tokens': 62, 'total_tokens': 123, 'completion_tokens_details': {'accepted_prediction_tokens': 0, 'audio_tokens': 0, 'reasoning_tokens': 0, 'rejected_prediction_tokens': 0}, 'prompt_tokens_details': {'audio_tokens': 0, 'cached_tokens': 0}}, 'model_name': 'gpt-3.5-turbo-0125', 'system_fingerprint': None, 'finish_reason': 'stop', 'logprobs': None}, id='run-0db767f8-3987-4414-a054-2c6a1eba025c-0', usage_metadata={'input_tokens': 62, 'output_tokens': 61, 'total_tokens': 123, 'input_token_details': {'audio': 0, 'cache_read': 0}, 'output_token_details': {'audio': 0, 'reasoning': 0}})"
      ]
     },
     "execution_count": 17,
     "metadata": {},
     "output_type": "execute_result"
    }
   ],
   "source": [
    "from langchain_core.prompts import ChatPromptTemplate\n",
    "\n",
    "prompt = ChatPromptTemplate.from_messages([\n",
    "    (\"system\", \"Du bist ein Softwareentwickler. Du sitzt in einem Workshop über KI. Der Sprecher redet über LLMs im Business-Umfeld, und Du bist an dem Thema interessiert.\"),\n",
    "    (\"user\", \"{input}\")\n",
    "])\n",
    "\n",
    "chain = prompt | llm #| output_parser\n",
    "\n",
    "input = { \"input\": \"Hast Du irgendwelche Fragen?\" }\n",
    "\n",
    "chain.invoke(input)"
   ]
  }
 ],
 "metadata": {
  "kernelspec": {
   "display_name": "Python 3",
   "language": "python",
   "name": "python3"
  },
  "language_info": {
   "codemirror_mode": {
    "name": "ipython",
    "version": 3
   },
   "file_extension": ".py",
   "mimetype": "text/x-python",
   "name": "python",
   "nbconvert_exporter": "python",
   "pygments_lexer": "ipython3",
   "version": "3.11.11"
  }
 },
 "nbformat": 4,
 "nbformat_minor": 2
}
